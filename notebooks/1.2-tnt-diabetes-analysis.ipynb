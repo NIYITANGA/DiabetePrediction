{
 "cells": [
  {
   "cell_type": "markdown",
   "metadata": {},
   "source": [
    "# Diabetes Prediction Analysis\n",
    "**Author:** TNT  \n",
    "**Version:** 1.2  \n",
    "**Dataset:** Pima Indian Diabetes Dataset  \n",
    "**Description:** Interactive analysis and visualization of diabetes prediction models\n"
   ]
  },
  {
   "cell_type": "markdown",
   "metadata": {},
   "source": [
    "## 1. Setup and Data Loading"
   ]
  },
  {
   "cell_type": "code",
   "execution_count": null,
   "metadata": {},
   "outputs": [],
   "source": [
    "# Import required libraries\n",
    "import pandas as pd\n",
    "import numpy as np\n",
    "import matplotlib.pyplot as plt\n",
    "import seaborn as sns\n",
    "import joblib\n",
    "import json\n",
    "from sklearn.metrics import classification_report, confusion_matrix, roc_curve, auc\n",
    "from sklearn.model_selection import learning_curve\n",
    "import warnings\n",
    "warnings.filterwarnings('ignore')\n",
    "\n",
    "# Set plotting style\n",
    "plt.style.use('seaborn-v0_8')\n",
    "sns.set_palette(\"husl\")\n",
    "\n",
    "print(\"Libraries imported successfully!\")"
   ]
  },
  {
   "cell_type": "code",
   "execution_count": null,
   "metadata": {},
   "outputs": [],
   "source": [
    "# Load the dataset\n",
    "data = pd.read_csv('../data/pima-diabetes.csv')\n",
    "\n",
    "print(f\"Dataset shape: {data.shape}\")\n",
    "print(f\"\\nColumns: {list(data.columns)}\")\n",
    "print(f\"\\nFirst 5 rows:\")\n",
    "data.head()"
   ]
  },
  {
   "cell_type": "markdown",
   "metadata": {},
   "source": [
    "## 2. Exploratory Data Analysis"
   ]
  },
  {
   "cell_type": "code",
   "execution_count": null,
   "metadata": {},
   "outputs": [],
   "source": [
    "# Basic statistics\n",
    "print(\"Dataset Info:\")\n",
    "print(data.info())\n",
    "print(\"\\nBasic Statistics:\")\n",
    "data.describe()"
   ]
  },
  {
   "cell_type": "code",
   "execution_count": null,
   "metadata": {},
   "outputs": [],
   "source": [
    "# Check for missing values and zero values\n",
    "print(\"Missing Values:\")\n",
    "print(data.isnull().sum())\n",
    "\n",
    "print(\"\\nZero Values Analysis:\")\n",
    "zero_cols = ['Glucose', 'BloodPressure', 'SkinThickness', 'Insulin', 'BMI']\n",
    "for col in zero_cols:\n",
    "    if col in data.columns:\n",
    "        zero_count = (data[col] == 0).sum()\n",
    "        print(f\"{col}: {zero_count} zero values ({zero_count/len(data)*100:.2f}%)\")"
   ]
  },
  {
   "cell_type": "code",
   "execution_count": null,
   "metadata": {},
   "outputs": [],
   "source": [
    "# Target variable distribution\n",
    "plt.figure(figsize=(12, 5))\n",
    "\n",
    "# Count plot\n",
    "plt.subplot(1, 2, 1)\n",
    "sns.countplot(data=data, x='Class')\n",
    "plt.title('Distribution of Diabetes Cases')\n",
    "plt.xlabel('Class (0: No Diabetes, 1: Diabetes)')\n",
    "\n",
    "# Pie chart\n",
    "plt.subplot(1, 2, 2)\n",
    "class_counts = data['Class'].value_counts()\n",
    "plt.pie(class_counts.values, labels=['No Diabetes', 'Diabetes'], autopct='%1.1f%%')\n",
    "plt.title('Diabetes Prevalence')\n",
    "\n",
    "plt.tight_layout()\n",
    "plt.show()\n",
    "\n",
    "print(f\"Diabetes prevalence: {data['Class'].mean()*100:.2f}%\")"
   ]
  },
  {
   "cell_type": "code",
   "execution_count": null,
   "metadata": {},
   "outputs": [],
   "source": [
    "# Feature distributions\n",
    "fig, axes = plt.subplots(3, 3, figsize=(15, 12))\n",
    "features = data.columns[:-1]  # All except 'Class'\n",
    "\n",
    "for i, feature in enumerate(features):\n",
    "    row = i // 3\n",
    "    col = i % 3\n",
    "    \n",
    "    # Histogram with KDE\n",
    "    sns.histplot(data=data, x=feature, hue='Class', kde=True, ax=axes[row, col])\n",
    "    axes[row, col].set_title(f'Distribution of {feature}')\n",
    "\n",
    "plt.tight_layout()\n",
    "plt.show()"
   ]
  },
  {
   "cell_type": "code",
   "execution_count": null,
   "metadata": {},
   "outputs": [],
   "source": [
    "# Correlation analysis\n",
    "plt.figure(figsize=(10, 8))\n",
    "correlation_matrix = data.corr()\n",
    "mask = np.triu(np.ones_like(correlation_matrix, dtype=bool))\n",
    "sns.heatmap(correlation_matrix, mask=mask, annot=True, cmap='coolwarm', center=0,\n",
    "            square=True, linewidths=0.5)\n",
    "plt.title('Feature Correlation Heatmap')\n",
    "plt.show()\n",
    "\n",
    "# Show strongest correlations with target\n",
    "target_corr = correlation_matrix['Class'].abs().sort_values(ascending=False)\n",
    "print(\"\\nStrongest correlations with diabetes:\")\n",
    "print(target_corr[1:])  # Exclude self-correlation"
   ]
  },
  {
   "cell_type": "markdown",
   "metadata": {},
   "source": [
    "## 3. Summary and Insights"
   ]
  },
  {
   "cell_type": "code",
   "execution_count": null,
   "metadata": {},
   "outputs": [],
   "source": [
    "# Generate summary insights\n",
    "print(\"DIABETES PREDICTION ANALYSIS SUMMARY\")\n",
    "print(\"=\"*50)\n",
    "\n",
    "print(f\"\\nDataset Overview:\")\n",
    "print(f\"- Total samples: {len(data)}\")\n",
    "print(f\"- Features: {len(data.columns)-1}\")\n",
    "print(f\"- Diabetes prevalence: {data['Class'].mean()*100:.1f}%\")\n",
    "\n",
    "print(f\"\\nKey Risk Factors (based on correlation):\")\n",
    "target_corr = data.corr()['Class'].abs().sort_values(ascending=False)\n",
    "for i, (feature, corr) in enumerate(target_corr[1:4].items()):\n",
    "    print(f\"{i+1}. {feature}: {corr:.3f}\")\n",
    "\n",
    "print(f\"\\nRecommendations:\")\n",
    "print(f\"- Focus on glucose monitoring for early detection\")\n",
    "print(f\"- BMI management is crucial for diabetes prevention\")\n",
    "print(f\"- Age-specific screening protocols should be implemented\")\n",
    "print(f\"- Family history (pedigree) should be considered in risk assessment\")"
   ]
  }
 ],
 "metadata": {
  "kernelspec": {
   "display_name": "Python 3",
   "language": "python",
   "name": "python3"
  },
  "language_info": {
   "codemirror_mode": {
    "name": "ipython",
    "version": 3
   },
   "file_extension": ".py",
   "mimetype": "text/x-python",
   "name": "python",
   "nbconvert_exporter": "python",
   "pygments_lexer": "ipython3",
   "version": "3.8.5"
  }
 },
 "nbformat": 4,
 "nbformat_minor": 4
}
